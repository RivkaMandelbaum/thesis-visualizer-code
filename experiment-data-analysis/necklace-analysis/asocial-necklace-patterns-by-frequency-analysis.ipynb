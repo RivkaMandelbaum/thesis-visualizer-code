{
 "cells": [
  {
   "cell_type": "markdown",
   "id": "7d31e4af-b8ca-4cb1-b1af-83f0e6faf8b9",
   "metadata": {},
   "source": [
    "# Import libraries"
   ]
  },
  {
   "cell_type": "code",
   "execution_count": 1,
   "id": "17c99cac-e759-4cc4-8232-10482de9d751",
   "metadata": {},
   "outputs": [],
   "source": [
    "import numpy as np\n",
    "import matplotlib.pyplot as plt\n",
    "import pandas as pd\n",
    "from IPython.core.debugger import set_trace\n",
    "import json\n",
    "from matplotlib import colors"
   ]
  },
  {
   "cell_type": "markdown",
   "id": "991d0bfd-4aa3-4c4c-9f17-f8396d55dc3f",
   "metadata": {},
   "source": [
    "# Load data"
   ]
  },
  {
   "cell_type": "code",
   "execution_count": 4,
   "id": "b0bc03cd-963d-4646-89fe-a8aa7dd53ab9",
   "metadata": {},
   "outputs": [],
   "source": [
    "PATH = \"../data/asocserreprivka-data-psynet/data/\"\n",
    "nodes = pd.read_csv(PATH + \"node.csv\", low_memory=False)\n",
    "networks = pd.read_csv(PATH + \"network.csv\", low_memory=False)"
   ]
  },
  {
   "cell_type": "markdown",
   "id": "063930b9-2f4a-408c-86b4-3cf5d1eadb03",
   "metadata": {},
   "source": [
    "# Preprocess data"
   ]
  },
  {
   "cell_type": "code",
   "execution_count": 5,
   "metadata": {},
   "outputs": [],
   "source": [
    "# filter networks\n",
    "network_data = networks\n",
    "network_data = network_data[network_data[\"role\"] == \"experiment\"]\n",
    "network_data = network_data[network_data[\"failed\"] == 'f']\n",
    "network_data = network_data[network_data[\"trial_maker_id\"] == 'graph_experiment']\n",
    "\n",
    "experiment_net_id = list(network_data['id'].to_numpy())\n",
    "\n",
    "# filter nodes\n",
    "node_data = nodes\n",
    "node_data = node_data[nodes[\"type\"] == \"graph_chain_node\"]\n",
    "node_data = node_data[node_data[\"failed\"] == \"f\"]\n",
    "node_data = node_data[node_data[\"network_id\"].isin(experiment_net_id)]\n",
    "node_data = node_data[[\"id\", \"network_id\", \"degree\", \"definition\", \"seed\", \"vertex_id\", \"dependent_vertex_ids\"]]\n",
    "node_data = node_data.sort_values([\"network_id\", \"degree\"])"
   ]
  },
  {
   "cell_type": "code",
   "execution_count": 6,
   "metadata": {},
   "outputs": [],
   "source": [
    "node_data.to_csv(\"rivka-asocial-necklace-rep-data.csv\")"
   ]
  },
  {
   "cell_type": "code",
   "execution_count": 7,
   "metadata": {},
   "outputs": [],
   "source": [
    "# MOST COMMON NECKLACES ANALYSIS\n",
    "\n",
    "def clean_json(x):\n",
    "    return json.loads(x) # turns json into python object"
   ]
  },
  {
   "cell_type": "code",
   "execution_count": 8,
   "metadata": {
    "tags": []
   },
   "outputs": [],
   "source": [
    "# Most common necklaces that people produced\n",
    "node_data = node_data.sort_values([\"degree\"])"
   ]
  },
  {
   "cell_type": "code",
   "execution_count": 9,
   "metadata": {},
   "outputs": [],
   "source": [
    "responses = pd.read_csv(PATH + \"response.csv\", low_memory=False)"
   ]
  },
  {
   "cell_type": "code",
   "execution_count": 10,
   "metadata": {},
   "outputs": [],
   "source": [
    "response_data = responses[responses[\"failed\"] == \"f\"]\n",
    "response_data = response_data[responses[\"question\"] == \"reproduce\"]\n",
    "answers = response_data[\"answer\"]"
   ]
  },
  {
   "cell_type": "code",
   "execution_count": 17,
   "metadata": {},
   "outputs": [],
   "source": [
    "def convert_to_pattern(necklace):\n",
    "    color_to_code = {}\n",
    "    pattern = []\n",
    "    color_codes = [\"a\", \"b\", \"c\", \"ERR\"]\n",
    "    color_index = 0\n",
    "\n",
    "    if isinstance(necklace, str):\n",
    "        necklace = necklace.strip('][').split(', ')\n",
    "\n",
    "    for circle_color in necklace:\n",
    "        if circle_color not in color_to_code:\n",
    "            color_to_code[circle_color] = color_codes[color_index]\n",
    "            color_index += 1\n",
    "        pattern.append(color_to_code[circle_color])\n",
    "    \n",
    "    return str(pattern)"
   ]
  },
  {
   "cell_type": "code",
   "execution_count": 18,
   "metadata": {},
   "outputs": [],
   "source": [
    "necklace_freqs = {}\n",
    "for necklace in answers:\n",
    "    necklace = convert_to_pattern(necklace)\n",
    "    if necklace in necklace_freqs:\n",
    "        necklace_freqs[necklace] += 1\n",
    "    else:\n",
    "        necklace_freqs[necklace] = 1"
   ]
  },
  {
   "cell_type": "code",
   "execution_count": 19,
   "metadata": {},
   "outputs": [],
   "source": [
    "sorted_necklaces = sorted( ((v, k) for k, v in necklace_freqs.items()), reverse=True)"
   ]
  },
  {
   "cell_type": "code",
   "execution_count": 20,
   "metadata": {},
   "outputs": [],
   "source": [
    "pd.DataFrame(sorted_necklaces).to_csv(\"asocial-necklace-patterns-by-frequency.csv\")"
   ]
  },
  {
   "cell_type": "code",
   "execution_count": null,
   "metadata": {},
   "outputs": [],
   "source": []
  }
 ],
 "metadata": {
  "kernelspec": {
   "display_name": "Python 3",
   "language": "python",
   "name": "python3"
  },
  "language_info": {
   "codemirror_mode": {
    "name": "ipython",
    "version": 3
   },
   "file_extension": ".py",
   "mimetype": "text/x-python",
   "name": "python",
   "nbconvert_exporter": "python",
   "pygments_lexer": "ipython3",
   "version": "3.8.8-final"
  }
 },
 "nbformat": 4,
 "nbformat_minor": 5
}
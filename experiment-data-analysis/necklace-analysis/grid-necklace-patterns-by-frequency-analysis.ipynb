{
 "cells": [
  {
   "cell_type": "markdown",
   "id": "7d31e4af-b8ca-4cb1-b1af-83f0e6faf8b9",
   "metadata": {},
   "source": [
    "# Import libraries"
   ]
  },
  {
   "cell_type": "code",
   "execution_count": 88,
   "id": "17c99cac-e759-4cc4-8232-10482de9d751",
   "metadata": {},
   "outputs": [],
   "source": [
    "import numpy as np\n",
    "import matplotlib.pyplot as plt\n",
    "import pandas as pd\n",
    "from IPython.core.debugger import set_trace\n",
    "import json\n",
    "from matplotlib import colors"
   ]
  },
  {
   "cell_type": "markdown",
   "id": "991d0bfd-4aa3-4c4c-9f17-f8396d55dc3f",
   "metadata": {},
   "source": [
    "# Load data"
   ]
  },
  {
   "cell_type": "code",
   "execution_count": 89,
   "id": "b0bc03cd-963d-4646-89fe-a8aa7dd53ab9",
   "metadata": {},
   "outputs": [],
   "source": [
    "PATH = \"data/rivka-necklace-rep-data/psynet/data/\"\n",
    "nodes = pd.read_csv(PATH + \"node.csv\", low_memory=False)\n",
    "networks = pd.read_csv(PATH + \"network.csv\", low_memory=False)"
   ]
  },
  {
   "cell_type": "markdown",
   "id": "063930b9-2f4a-408c-86b4-3cf5d1eadb03",
   "metadata": {},
   "source": [
    "# Preprocess data"
   ]
  },
  {
   "cell_type": "code",
   "execution_count": 90,
   "id": "51c275ac-e64e-4b39-b169-8a12a67c57ac",
   "metadata": {},
   "outputs": [],
   "source": [
    "# filter networks\n",
    "network_data = networks\n",
    "network_data = network_data[network_data[\"role\"] == \"experiment\"]\n",
    "network_data = network_data[network_data[\"failed\"] == 'f']\n",
    "network_data = network_data[network_data[\"trial_maker_id\"] == 'graph_experiment']\n",
    "\n",
    "experiment_net_id = list(network_data['id'].to_numpy())\n",
    "\n",
    "# filter nodes\n",
    "node_data = nodes\n",
    "node_data = node_data[nodes[\"type\"] == \"graph_chain_node\"]\n",
    "node_data = node_data[node_data[\"failed\"] == \"f\"]\n",
    "node_data = node_data[node_data[\"network_id\"].isin(experiment_net_id)]\n",
    "node_data = node_data[[\"id\", \"network_id\", \"degree\", \"definition\", \"seed\", \"vertex_id\", \"dependent_vertex_ids\"]]\n",
    "node_data = node_data.sort_values([\"network_id\", \"degree\"])"
   ]
  },
  {
   "cell_type": "code",
   "execution_count": 5,
   "id": "9c33f61f-175c-4926-9ad7-0649ad29b36f",
   "metadata": {},
   "outputs": [
    {
     "output_type": "execute_result",
     "data": {
      "text/plain": [
       "       id  network_id  degree  \\\n",
       "3       2           2     1.0   \n",
       "180   144           2     2.0   \n",
       "84    178           2     3.0   \n",
       "297   211           2     4.0   \n",
       "204   273           2     5.0   \n",
       "..    ...         ...     ...   \n",
       "682   880          50    17.0   \n",
       "853   922          50    18.0   \n",
       "967   950          50    19.0   \n",
       "968  1012          50    20.0   \n",
       "975  1059          50    21.0   \n",
       "\n",
       "                                            definition  \\\n",
       "3    [{\"content\": [0, 0, 0, 0, 1, 1, 1, 0, 2], \"is_...   \n",
       "180  [{\"content\": [0, 0, 0, 0, 1, 1, 1, 0, 2], \"is_...   \n",
       "84   [{\"content\": [1, 1, 1, 1, 1, 1, 1, 1, 1], \"is_...   \n",
       "297  [{\"content\": [1, 1, 1, 1, 1, 1, 1, 1, 1], \"is_...   \n",
       "204  [{\"content\": [2, 2, 2, 2, 1, 2, 2, 2, 2], \"is_...   \n",
       "..                                                 ...   \n",
       "682  [{\"content\": [2, 2, 2, 2, 2, 2, 2, 2, 2], \"is_...   \n",
       "853  [{\"content\": [1, 1, 1, 1, 2, 1, 2, 1, 1], \"is_...   \n",
       "967  [{\"content\": [1, 1, 1, 1, 1, 1, 1, 1, 1], \"is_...   \n",
       "968  [{\"content\": [1, 1, 1, 1, 2, 1, 2, 1, 1], \"is_...   \n",
       "975  [{\"content\": [1, 1, 1, 1, 1, 1, 1, 1, 1], \"is_...   \n",
       "\n",
       "                                                  seed  vertex_id  \\\n",
       "3    [{\"content\": [0, 0, 0, 0, 1, 1, 1, 0, 2], \"is_...        0.0   \n",
       "180  [{\"content\": [0, 0, 0, 0, 1, 1, 1, 0, 2], \"is_...        0.0   \n",
       "84   [{\"content\": [1, 1, 1, 1, 1, 1, 1, 1, 1], \"is_...        0.0   \n",
       "297  [{\"content\": [1, 1, 1, 1, 1, 1, 1, 1, 1], \"is_...        0.0   \n",
       "204  [{\"content\": [2, 2, 2, 2, 1, 2, 2, 2, 2], \"is_...        0.0   \n",
       "..                                                 ...        ...   \n",
       "682  [{\"content\": [2, 2, 2, 2, 2, 2, 2, 2, 2], \"is_...       48.0   \n",
       "853  [{\"content\": [1, 1, 1, 1, 2, 1, 2, 1, 1], \"is_...       48.0   \n",
       "967  [{\"content\": [1, 1, 1, 1, 1, 1, 1, 1, 1], \"is_...       48.0   \n",
       "968  [{\"content\": [1, 1, 1, 1, 2, 1, 2, 1, 1], \"is_...       48.0   \n",
       "975  [{\"content\": [1, 1, 1, 1, 1, 1, 1, 1, 1], \"is_...       48.0   \n",
       "\n",
       "    dependent_vertex_ids  \n",
       "3          [1, 42, 6, 7]  \n",
       "180        [1, 42, 6, 7]  \n",
       "84         [1, 42, 6, 7]  \n",
       "297        [1, 42, 6, 7]  \n",
       "204        [1, 42, 6, 7]  \n",
       "..                   ...  \n",
       "682      [6, 47, 41, 42]  \n",
       "853      [6, 47, 41, 42]  \n",
       "967      [6, 47, 41, 42]  \n",
       "968      [6, 47, 41, 42]  \n",
       "975      [6, 47, 41, 42]  \n",
       "\n",
       "[1029 rows x 7 columns]"
      ],
      "text/html": "<div>\n<style scoped>\n    .dataframe tbody tr th:only-of-type {\n        vertical-align: middle;\n    }\n\n    .dataframe tbody tr th {\n        vertical-align: top;\n    }\n\n    .dataframe thead th {\n        text-align: right;\n    }\n</style>\n<table border=\"1\" class=\"dataframe\">\n  <thead>\n    <tr style=\"text-align: right;\">\n      <th></th>\n      <th>id</th>\n      <th>network_id</th>\n      <th>degree</th>\n      <th>definition</th>\n      <th>seed</th>\n      <th>vertex_id</th>\n      <th>dependent_vertex_ids</th>\n    </tr>\n  </thead>\n  <tbody>\n    <tr>\n      <th>3</th>\n      <td>2</td>\n      <td>2</td>\n      <td>1.0</td>\n      <td>[{\"content\": [0, 0, 0, 0, 1, 1, 1, 0, 2], \"is_...</td>\n      <td>[{\"content\": [0, 0, 0, 0, 1, 1, 1, 0, 2], \"is_...</td>\n      <td>0.0</td>\n      <td>[1, 42, 6, 7]</td>\n    </tr>\n    <tr>\n      <th>180</th>\n      <td>144</td>\n      <td>2</td>\n      <td>2.0</td>\n      <td>[{\"content\": [0, 0, 0, 0, 1, 1, 1, 0, 2], \"is_...</td>\n      <td>[{\"content\": [0, 0, 0, 0, 1, 1, 1, 0, 2], \"is_...</td>\n      <td>0.0</td>\n      <td>[1, 42, 6, 7]</td>\n    </tr>\n    <tr>\n      <th>84</th>\n      <td>178</td>\n      <td>2</td>\n      <td>3.0</td>\n      <td>[{\"content\": [1, 1, 1, 1, 1, 1, 1, 1, 1], \"is_...</td>\n      <td>[{\"content\": [1, 1, 1, 1, 1, 1, 1, 1, 1], \"is_...</td>\n      <td>0.0</td>\n      <td>[1, 42, 6, 7]</td>\n    </tr>\n    <tr>\n      <th>297</th>\n      <td>211</td>\n      <td>2</td>\n      <td>4.0</td>\n      <td>[{\"content\": [1, 1, 1, 1, 1, 1, 1, 1, 1], \"is_...</td>\n      <td>[{\"content\": [1, 1, 1, 1, 1, 1, 1, 1, 1], \"is_...</td>\n      <td>0.0</td>\n      <td>[1, 42, 6, 7]</td>\n    </tr>\n    <tr>\n      <th>204</th>\n      <td>273</td>\n      <td>2</td>\n      <td>5.0</td>\n      <td>[{\"content\": [2, 2, 2, 2, 1, 2, 2, 2, 2], \"is_...</td>\n      <td>[{\"content\": [2, 2, 2, 2, 1, 2, 2, 2, 2], \"is_...</td>\n      <td>0.0</td>\n      <td>[1, 42, 6, 7]</td>\n    </tr>\n    <tr>\n      <th>...</th>\n      <td>...</td>\n      <td>...</td>\n      <td>...</td>\n      <td>...</td>\n      <td>...</td>\n      <td>...</td>\n      <td>...</td>\n    </tr>\n    <tr>\n      <th>682</th>\n      <td>880</td>\n      <td>50</td>\n      <td>17.0</td>\n      <td>[{\"content\": [2, 2, 2, 2, 2, 2, 2, 2, 2], \"is_...</td>\n      <td>[{\"content\": [2, 2, 2, 2, 2, 2, 2, 2, 2], \"is_...</td>\n      <td>48.0</td>\n      <td>[6, 47, 41, 42]</td>\n    </tr>\n    <tr>\n      <th>853</th>\n      <td>922</td>\n      <td>50</td>\n      <td>18.0</td>\n      <td>[{\"content\": [1, 1, 1, 1, 2, 1, 2, 1, 1], \"is_...</td>\n      <td>[{\"content\": [1, 1, 1, 1, 2, 1, 2, 1, 1], \"is_...</td>\n      <td>48.0</td>\n      <td>[6, 47, 41, 42]</td>\n    </tr>\n    <tr>\n      <th>967</th>\n      <td>950</td>\n      <td>50</td>\n      <td>19.0</td>\n      <td>[{\"content\": [1, 1, 1, 1, 1, 1, 1, 1, 1], \"is_...</td>\n      <td>[{\"content\": [1, 1, 1, 1, 1, 1, 1, 1, 1], \"is_...</td>\n      <td>48.0</td>\n      <td>[6, 47, 41, 42]</td>\n    </tr>\n    <tr>\n      <th>968</th>\n      <td>1012</td>\n      <td>50</td>\n      <td>20.0</td>\n      <td>[{\"content\": [1, 1, 1, 1, 2, 1, 2, 1, 1], \"is_...</td>\n      <td>[{\"content\": [1, 1, 1, 1, 2, 1, 2, 1, 1], \"is_...</td>\n      <td>48.0</td>\n      <td>[6, 47, 41, 42]</td>\n    </tr>\n    <tr>\n      <th>975</th>\n      <td>1059</td>\n      <td>50</td>\n      <td>21.0</td>\n      <td>[{\"content\": [1, 1, 1, 1, 1, 1, 1, 1, 1], \"is_...</td>\n      <td>[{\"content\": [1, 1, 1, 1, 1, 1, 1, 1, 1], \"is_...</td>\n      <td>48.0</td>\n      <td>[6, 47, 41, 42]</td>\n    </tr>\n  </tbody>\n</table>\n<p>1029 rows × 7 columns</p>\n</div>"
     },
     "metadata": {},
     "execution_count": 5
    }
   ],
   "source": [
    "node_data"
   ]
  },
  {
   "cell_type": "markdown",
   "id": "71304e7f-ef75-428b-abfa-3a85190c9df2",
   "metadata": {},
   "source": [
    "# Export data to csv"
   ]
  },
  {
   "cell_type": "code",
   "execution_count": 6,
   "id": "6b550e9c-b885-430c-8282-75806a049fbf",
   "metadata": {},
   "outputs": [],
   "source": [
    "node_data.to_csv(\"rivka-necklace-rep-data.csv\")"
   ]
  },
  {
   "cell_type": "code",
   "execution_count": 91,
   "metadata": {},
   "outputs": [],
   "source": [
    "# MOST COMMON NECKLACES ANALYSIS\n",
    "\n",
    "def clean_json(x):\n",
    "    return json.loads(x) # turns json into python object"
   ]
  },
  {
   "cell_type": "code",
   "execution_count": 92,
   "metadata": {
    "tags": []
   },
   "outputs": [
    {
     "output_type": "stream",
     "name": "stdout",
     "text": [
      "Index(['id', 'network_id', 'degree', 'definition', 'seed', 'vertex_id',\n       'dependent_vertex_ids'],\n      dtype='object')\n"
     ]
    }
   ],
   "source": [
    "# Most common necklaces that people produced\n",
    "node_data = node_data.sort_values([\"degree\"])\n",
    "print(node_data.columns)\n",
    "# necklace_freqs = {}\n",
    "# node_data[\"definition\"] = node_data[\"definition\"].apply(clean_json)"
   ]
  },
  {
   "cell_type": "code",
   "execution_count": 93,
   "metadata": {
    "tags": []
   },
   "outputs": [
    {
     "output_type": "stream",
     "name": "stdout",
     "text": [
      "[{\"content\": [0, 0, 0, 0, 1, 1, 1, 0, 2], \"is_center\": true, \"vertex_id\": 0}, {\"content\": [1, 1, 0, 2, 2, 1, 1, 2, 2], \"is_center\": false, \"vertex_id\": 1}, {\"content\": [2, 2, 1, 0, 2, 0, 1, 2, 0], \"is_center\": false, \"vertex_id\": 42}, {\"content\": [2, 0, 1, 0, 0, 0, 0, 1, 0], \"is_center\": false, \"vertex_id\": 6}, {\"content\": [2, 2, 2, 1, 1, 2, 0, 1, 2], \"is_center\": false, \"vertex_id\": 7}]\n[{\"content\": [1, 2, 1, 1, 1, 2, 0, 1, 2], \"is_center\": true, \"vertex_id\": 41}, {\"content\": [1, 2, 0, 0, 2, 1, 2, 0, 2], \"is_center\": false, \"vertex_id\": 40}, {\"content\": [2, 1, 0, 1, 0, 1, 2, 1, 2], \"is_center\": false, \"vertex_id\": 34}, {\"content\": [1, 0, 2, 2, 1, 0, 2, 0, 0], \"is_center\": false, \"vertex_id\": 35}, {\"content\": [0, 0, 1, 0, 0, 2, 2, 2, 2], \"is_center\": false, \"vertex_id\": 48}]\n[{\"content\": [2, 1, 0, 2, 2, 0, 1, 0, 1], \"is_center\": true, \"vertex_id\": 19}, {\"content\": [2, 2, 0, 2, 1, 0, 0, 1, 2], \"is_center\": false, \"vertex_id\": 18}, {\"content\": [2, 2, 0, 2, 1, 0, 1, 1, 2], \"is_center\": false, \"vertex_id\": 12}, {\"content\": [2, 1, 0, 2, 0, 0, 2, 2, 1], \"is_center\": false, \"vertex_id\": 20}, {\"content\": [0, 2, 0, 0, 2, 0, 1, 0, 0], \"is_center\": false, \"vertex_id\": 26}]\n[{\"content\": [2, 0, 2, 2, 2, 1, 1, 2, 2], \"is_center\": true, \"vertex_id\": 22}, {\"content\": [0, 0, 0, 0, 0, 2, 0, 2, 0], \"is_center\": false, \"vertex_id\": 21}, {\"content\": [2, 1, 0, 0, 2, 2, 0, 0, 1], \"is_center\": false, \"vertex_id\": 15}, {\"content\": [0, 2, 1, 2, 0, 1, 2, 2, 2], \"is_center\": false, \"vertex_id\": 23}, {\"content\": [2, 1, 1, 2, 0, 0, 2, 0, 2], \"is_center\": false, \"vertex_id\": 29}]\n[{\"content\": [1, 2, 1, 2, 2, 2, 2, 0, 2], \"is_center\": true, \"vertex_id\": 27}, {\"content\": [0, 2, 0, 0, 2, 0, 1, 0, 0], \"is_center\": false, \"vertex_id\": 26}, {\"content\": [2, 1, 0, 2, 0, 0, 2, 2, 1], \"is_center\": false, \"vertex_id\": 20}, {\"content\": [0, 0, 0, 0, 0, 2, 0, 2, 0], \"is_center\": false, \"vertex_id\": 21}, {\"content\": [2, 1, 0, 1, 0, 1, 2, 1, 2], \"is_center\": false, \"vertex_id\": 34}]\n"
     ]
    }
   ],
   "source": [
    "necklaces = []\n",
    "for definition in node_data[\"definition\"].head():\n",
    "    print(definition)"
   ]
  },
  {
   "cell_type": "code",
   "execution_count": 94,
   "metadata": {},
   "outputs": [],
   "source": [
    "responses = pd.read_csv(PATH + \"response.csv\", low_memory=False)"
   ]
  },
  {
   "cell_type": "code",
   "execution_count": 95,
   "metadata": {},
   "outputs": [],
   "source": [
    "response_data = responses[responses[\"failed\"] == \"f\"]\n",
    "response_data = response_data[responses[\"question\"] == \"reproduce\"]\n",
    "answers = response_data[\"answer\"]"
   ]
  },
  {
   "cell_type": "code",
   "execution_count": 110,
   "metadata": {},
   "outputs": [],
   "source": [
    "def convert_to_pattern(necklace):\n",
    "    color_to_code = {}\n",
    "    pattern = []\n",
    "    color_codes = [\"a\", \"b\", \"c\"]\n",
    "    color_index = 0\n",
    "\n",
    "    if isinstance(necklace, str):\n",
    "        necklace = necklace.strip('][').split(', ')\n",
    "\n",
    "    for circle_color in necklace:\n",
    "        if circle_color not in color_to_code:\n",
    "            color_to_code[circle_color] = color_codes[color_index]\n",
    "            color_index += 1\n",
    "        pattern.append(color_to_code[circle_color])\n",
    "    \n",
    "    return str(pattern)"
   ]
  },
  {
   "cell_type": "code",
   "execution_count": 97,
   "metadata": {},
   "outputs": [
    {
     "output_type": "stream",
     "name": "stdout",
     "text": [
      "['a', 'a', 'a']\n['a', 'a', 'a']\n['a', 'a', 'a']\n['a', 'b', 'a']\n['a', 'b', 'a']\n['a', 'b', 'a']\n['a', 'a', 'b', 'c', 'c']\n['a', 'a', 'b', 'c', 'c']\n['a', 'a', 'b', 'c', 'c']\n['a', 'a', 'b', 'c', 'c', 'c']\n['a', 'a', 'b', 'c', 'c', 'b']\n['a', 'a', 'b', 'c', 'c', 'a']\n"
     ]
    }
   ],
   "source": [
    "print(convert_to_pattern([1, 1, 1]))\n",
    "print(convert_to_pattern([0, 0, 0]))\n",
    "print(convert_to_pattern([2, 2, 2]))\n",
    "\n",
    "print(convert_to_pattern([1, 2, 1]))\n",
    "print(convert_to_pattern([0, 2, 0]))\n",
    "print(convert_to_pattern([2, 1, 2]))\n",
    "\n",
    "print(convert_to_pattern([1, 1, 2, 0, 0]))\n",
    "print(convert_to_pattern([0, 0, 2, 1, 1]))\n",
    "print(convert_to_pattern([2, 2, 1, 0, 0]))\n",
    "\n",
    "print(convert_to_pattern([1, 1, 2, 0, 0, 0]))\n",
    "print(convert_to_pattern([0, 0, 2, 1, 1, 2]))\n",
    "print(convert_to_pattern([2, 2, 1, 0, 0, 2]))"
   ]
  },
  {
   "cell_type": "code",
   "execution_count": 111,
   "metadata": {},
   "outputs": [],
   "source": [
    "necklace_freqs = {}\n",
    "for necklace in answers:\n",
    "    necklace = convert_to_pattern(necklace)\n",
    "    if necklace in necklace_freqs:\n",
    "        necklace_freqs[necklace] += 1\n",
    "    else:\n",
    "        necklace_freqs[necklace] = 1"
   ]
  },
  {
   "cell_type": "code",
   "execution_count": 112,
   "metadata": {},
   "outputs": [],
   "source": [
    "sorted_necklaces = sorted( ((v, k) for k, v in necklace_freqs.items()), reverse=True)"
   ]
  },
  {
   "cell_type": "code",
   "execution_count": 113,
   "metadata": {},
   "outputs": [],
   "source": [
    "pd.DataFrame(sorted_necklaces).to_csv(\"necklace-patterns-by-frequency.csv\")"
   ]
  },
  {
   "source": [
    "# Experiment Cost and Demographics"
   ],
   "cell_type": "code",
   "metadata": {},
   "execution_count": null,
   "outputs": []
  },
  {
   "cell_type": "code",
   "execution_count": 7,
   "id": "8786435e-554e-41bd-881d-77c809eebb01",
   "metadata": {},
   "outputs": [],
   "source": [
    "participants = pd.read_csv(PATH + \"participant.csv\", low_memory=False)"
   ]
  },
  {
   "cell_type": "code",
   "execution_count": 9,
   "id": "9ce4568d-79c1-4f6b-a369-8e34d213d1c7",
   "metadata": {},
   "outputs": [
    {
     "output_type": "execute_result",
     "data": {
      "text/plain": [
       "{'N_participants': 45, 'cost': 91.71999999999998}"
      ]
     },
     "metadata": {},
     "execution_count": 9
    }
   ],
   "source": [
    "valid_participants = participants[participants[\"complete\"] == \"t\"]\n",
    "valid_participants = valid_participants[valid_participants[\"failed\"] == \"f\"]\n",
    "experiment_summary = {\n",
    "    \"N_participants\": valid_participants.shape[0],\n",
    "    \"cost\": participants[\"base_pay\"].sum() + participants[\"bonus\"].sum()\n",
    "}\n",
    "\n",
    "experiment_summary"
   ]
  },
  {
   "cell_type": "code",
   "execution_count": null,
   "id": "c0ef3ab8-06db-4512-95c0-2e2d7a53b52d",
   "metadata": {},
   "outputs": [],
   "source": []
  },
  {
   "cell_type": "code",
   "execution_count": null,
   "metadata": {},
   "outputs": [],
   "source": []
  }
 ],
 "metadata": {
  "kernelspec": {
   "display_name": "Python 3",
   "language": "python",
   "name": "python3"
  },
  "language_info": {
   "codemirror_mode": {
    "name": "ipython",
    "version": 3
   },
   "file_extension": ".py",
   "mimetype": "text/x-python",
   "name": "python",
   "nbconvert_exporter": "python",
   "pygments_lexer": "ipython3",
   "version": "3.8.8-final"
  }
 },
 "nbformat": 4,
 "nbformat_minor": 5
}
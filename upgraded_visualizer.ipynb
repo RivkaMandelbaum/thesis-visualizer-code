{
 "metadata": {
  "language_info": {
   "codemirror_mode": {
    "name": "ipython",
    "version": 3
   },
   "file_extension": ".py",
   "mimetype": "text/x-python",
   "name": "python",
   "nbconvert_exporter": "python",
   "pygments_lexer": "ipython3",
   "version": "3.8.8-final"
  },
  "orig_nbformat": 2,
  "kernelspec": {
   "name": "python3",
   "display_name": "Python 3.8.8 64-bit ('base': conda)",
   "metadata": {
    "interpreter": {
     "hash": "c14130da412dc9843fd0d7dc2551c3f1f991215061e2f34f7777ed189f09bc2b"
    }
   }
  }
 },
 "nbformat": 4,
 "nbformat_minor": 2,
 "cells": [
  {
   "cell_type": "code",
   "execution_count": 1,
   "metadata": {},
   "outputs": [],
   "source": [
    "import numpy as np\n",
    "import matplotlib.pyplot as plt\n",
    "import pandas as pd\n",
    "import json\n",
    "from matplotlib import colors\n",
    "import networkx as nx\n",
    "from pyvis.network import Network\n",
    "\n",
    "DEFAULT_COLOR = '#97c2fc' # from PyVis\n",
    "FAILED_COLOR = 'red'"
   ]
  },
  {
   "cell_type": "code",
   "execution_count": 2,
   "metadata": {},
   "outputs": [],
   "source": [
    "PATH = \"../serial-reproduction-with-selection/analysis/data/rivka-necklace-rep-data/psynet/data/\"\n",
    "nodes = pd.read_csv(PATH + \"node.csv\", low_memory=False)\n",
    "networks = pd.read_csv(PATH + \"network.csv\", low_memory=False)\n",
    "infos = pd.read_csv(PATH + \"info.csv\")"
   ]
  },
  {
   "cell_type": "code",
   "execution_count": 3,
   "metadata": {},
   "outputs": [],
   "source": [
    "# filter networks: role = experiment, failed = f\n",
    "network_data = networks\n",
    "network_data = network_data[network_data[\"role\"] == \"experiment\"]\n",
    "\n",
    "# filter per trial maker ID\n",
    "trial_maker_ids = network_data[\"trial_maker_id\"].unique()\n",
    "node_data_by_trial_maker = {}\n",
    "info_data_by_trial_maker = {}\n",
    "\n",
    "for trial_maker_id in trial_maker_ids:\n",
    "    network_data = network_data[network_data[\"trial_maker_id\"] == trial_maker_id] \n",
    "\n",
    "    experiment_network_ids = list(network_data['id'].to_numpy())\n",
    "\n",
    "    # filter nodes; sort\n",
    "    node_data = nodes\n",
    "    node_data = node_data[nodes[\"type\"] == \"graph_chain_node\"]\n",
    "    node_data = node_data[node_data[\"network_id\"].isin(experiment_network_ids)]\n",
    "    node_data = node_data[[\"id\", \"network_id\", \"degree\", \"definition\", \"seed\", \"vertex_id\", \"dependent_vertex_ids\", \"failed\"]]\n",
    "    node_data = node_data.sort_values([\"network_id\", \"degree\"])\n",
    "\n",
    "    # filter infos like nodes, sort\n",
    "    info_data = infos\n",
    "    info_data = info_data[infos[\"type\"] == \"graph_chain_trial\"]\n",
    "    info_data = info_data[[\"id\", \"creation_time\", \"details\", \"origin_id\", \"network_id\", \"participant_id\", \"failed\"]] # TODO: Probably want more columns here \n",
    "\n",
    "    info_data = info_data.sort_values([\"network_id\", \"origin_id\"])\n",
    "\n",
    "    # add to the dictionary \n",
    "    node_data_by_trial_maker[trial_maker_id] = node_data\n",
    "    info_data_by_trial_maker[trial_maker_id] = info_data"
   ]
  },
  {
   "cell_type": "code",
   "execution_count": 4,
   "metadata": {},
   "outputs": [],
   "source": [
    "def generate_graph(degree, trial_maker_id):\n",
    "    ''' Given a degree (int or float) and a trial_maker_id in the experiment, return a DiGraph containing the nodes (with metadata from infos) and edges in that degree and associated with that trial_maker_id. \n",
    "    '''\n",
    "    # validation: ensure degree is a float \n",
    "    if not isinstance(degree, float):\n",
    "        try:\n",
    "            degree = float(degree)\n",
    "        except Exception as ex:\n",
    "            raise(\"When converting degree to float, the following exception occured: \" + str(ex))\n",
    "\n",
    "    # validation: ensure trial_maker_id is valid\n",
    "    if trial_maker_id not in node_data_by_trial_maker.keys():\n",
    "        print(node_data_by_trial_maker)\n",
    "        raise Exception(\"Invalid trial_maker_id.\")\n",
    "\n",
    "    # use correct data for that trial_maker_id\n",
    "    node_data = node_data_by_trial_maker[trial_maker_id]\n",
    "    info_data = info_data_by_trial_maker[trial_maker_id]\n",
    "\n",
    "    # create graph \n",
    "    G = nx.DiGraph()\n",
    "\n",
    "    # add nodes from node_data to the Graph\n",
    "    # nodes are identified by their node_id\n",
    "    # nodes have named attributes vertex_id and degree\n",
    "    deg_nodes = node_data[node_data[\"degree\"] == degree]\n",
    "    for node_id in deg_nodes[\"id\"].values.tolist():\n",
    "        # extract vertex id \n",
    "        vert_id = deg_nodes[deg_nodes[\"id\"] == node_id][\"vertex_id\"].values[0]\n",
    "\n",
    "        # add metadata from infos \n",
    "        info_row = info_data[info_data[\"origin_id\"] == node_id]\n",
    "        try:\n",
    "            creation_time = info_row[\"creation_time\"].values[0]\n",
    "        except:\n",
    "            creation_time = None\n",
    "\n",
    "        # color failed nodes\n",
    "        node_color = DEFAULT_COLOR if (deg_nodes[deg_nodes[\"id\"] == node_id][\"failed\"].values[0] == \"f\") else FAILED_COLOR\n",
    "\n",
    "        G.add_node(node_id, vertex_id=vert_id, degree=degree, creation_time=creation_time, color=node_color)\n",
    "\n",
    "    # add edges to the Graph: iterate over deg_nodes, add incoming edges\n",
    "    # using dependent_vertex_ids column \n",
    "    edges = {}\n",
    "    for i, ser in deg_nodes.iterrows():\n",
    "        node_id = ser[\"id\"]\n",
    "\n",
    "        # get dependent vertices (incoming edges) in a list \n",
    "        dependent_vertices = ser[\"dependent_vertex_ids\"].strip('][').split(',')\n",
    "\n",
    "        # find the corresponding row of deg_nodes for each vertex_id\n",
    "        dependent_nodes = [deg_nodes[deg_nodes[\"vertex_id\"] == float(v)] for v in dependent_vertices]\n",
    "\n",
    "        # extract the node_id from each dependent vertex row\n",
    "        dependent_nodes = [n[\"id\"].values[0] for n in dependent_nodes]\n",
    "\n",
    "        # add as edges (dependent node --> curent node)\n",
    "        edge_list = [(int(dependent_node), int(node_id)) for dependent_node in dependent_nodes]\n",
    "        G.add_edges_from(edge_list)\n",
    "\n",
    "    return G"
   ]
  },
  {
   "cell_type": "code",
   "execution_count": 24,
   "metadata": {
    "tags": []
   },
   "outputs": [],
   "source": [
    "# Use 1: Write output to template \n",
    "pyvis_net = Network(directed=True)\n",
    "pyvis_net.from_nx(generate_graph(1.0, \"graph_experiment\"))\n",
    "if(len(pyvis_net.nodes)) != 49:\n",
    "    print('error')\n",
    "pyvis_net.set_template_dir('templates', template_file='temp.html')\n",
    "pyvis_net.write_html('templates/temp.html')"
   ]
  },
  {
   "source": [
    "# Use 2: Show and write each slice \n",
    "for d in range(int(node_data[\"degree\"].max())):\n",
    "    d = float(d) + 1\n",
    "    # convert to PyVis and show\n",
    "    pyvis_net = Network('500px', '500px', directed=True)\n",
    "    pyvis_net.from_nx(generate_graph(d, \"graph_experiment\"))\n",
    "    print(\"Generated graph of degree \" + str(d))\n",
    "\n",
    "    # add labels\n",
    "    for n in pyvis_net.nodes:\n",
    "        n['label'] = str(int(n['vertex_id'])) # gets changed to a float if you try to convert it in networkx for some reason\n",
    "        n['title'] = str(n['creation_time'])\n",
    "\n",
    "    pyvis_net.show('slice_%d.html' % d)"
   ],
   "cell_type": "code",
   "metadata": {},
   "execution_count": 5,
   "outputs": [
    {
     "output_type": "stream",
     "name": "stdout",
     "text": [
      "Generated graph of degree 1.0\n",
      "Generated graph of degree 2.0\n",
      "Generated graph of degree 3.0\n",
      "Generated graph of degree 4.0\n",
      "Generated graph of degree 5.0\n",
      "Generated graph of degree 6.0\n",
      "Generated graph of degree 7.0\n",
      "Generated graph of degree 8.0\n",
      "Generated graph of degree 9.0\n",
      "Generated graph of degree 10.0\n",
      "Generated graph of degree 11.0\n",
      "Generated graph of degree 12.0\n",
      "Generated graph of degree 13.0\n",
      "Generated graph of degree 14.0\n",
      "Generated graph of degree 15.0\n",
      "Generated graph of degree 16.0\n",
      "Generated graph of degree 17.0\n",
      "Generated graph of degree 18.0\n",
      "Generated graph of degree 19.0\n",
      "Generated graph of degree 20.0\n",
      "Generated graph of degree 21.0\n"
     ]
    }
   ]
  },
  {
   "cell_type": "code",
   "execution_count": null,
   "metadata": {},
   "outputs": [],
   "source": []
  }
 ]
}
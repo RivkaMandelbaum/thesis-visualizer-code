{
 "metadata": {
  "language_info": {
   "codemirror_mode": {
    "name": "ipython",
    "version": 3
   },
   "file_extension": ".py",
   "mimetype": "text/x-python",
   "name": "python",
   "nbconvert_exporter": "python",
   "pygments_lexer": "ipython3",
   "version": "3.8.8-final"
  },
  "orig_nbformat": 2,
  "kernelspec": {
   "name": "python3",
   "display_name": "Python 3.8.8 64-bit ('base': conda)",
   "metadata": {
    "interpreter": {
     "hash": "c14130da412dc9843fd0d7dc2551c3f1f991215061e2f34f7777ed189f09bc2b"
    }
   }
  }
 },
 "nbformat": 4,
 "nbformat_minor": 2,
 "cells": [
  {
   "cell_type": "code",
   "execution_count": 1,
   "metadata": {},
   "outputs": [],
   "source": [
    "import numpy as np\n",
    "import matplotlib.pyplot as plt\n",
    "import pandas as pd\n",
    "import json\n",
    "from matplotlib import colors\n",
    "import networkx as nx\n",
    "from pyvis.network import Network\n"
   ]
  },
  {
   "cell_type": "code",
   "execution_count": 2,
   "metadata": {},
   "outputs": [],
   "source": [
    "PATH = \"../serial-reproduction-with-selection/analysis/data/rivka-necklace-rep-data/psynet/data/\"\n",
    "nodes = pd.read_csv(PATH + \"node.csv\", low_memory=False)\n",
    "networks = pd.read_csv(PATH + \"network.csv\", low_memory=False)"
   ]
  },
  {
   "cell_type": "code",
   "execution_count": 3,
   "metadata": {},
   "outputs": [],
   "source": [
    "# filter networks\n",
    "network_data = networks\n",
    "network_data = network_data[network_data[\"role\"] == \"experiment\"]\n",
    "network_data = network_data[network_data[\"failed\"] == 'f']\n",
    "network_data = network_data[network_data[\"trial_maker_id\"] == 'graph_experiment'] # To update\n",
    "\n",
    "experiment_net_id = list(network_data['id'].to_numpy())\n",
    "\n",
    "# filter nodes\n",
    "node_data = nodes\n",
    "node_data = node_data[nodes[\"type\"] == \"graph_chain_node\"]\n",
    "node_data = node_data[node_data[\"failed\"] == \"f\"]\n",
    "node_data = node_data[node_data[\"network_id\"].isin(experiment_net_id)]\n",
    "node_data = node_data[[\"id\", \"network_id\", \"degree\", \"definition\", \"seed\", \"vertex_id\", \"dependent_vertex_ids\"]]\n",
    "node_data = node_data.sort_values([\"network_id\", \"degree\"])\n",
    "\n",
    "# read infos, filter like nodes\n",
    "infos = pd.read_csv(PATH + \"info.csv\")\n",
    "info_data = infos\n",
    "info_data = info_data[infos[\"type\"] == \"graph_chain_trial\"]\n",
    "info_data = info_data[info_data[\"failed\"] == \"f\"]\n",
    "info_data = info_data[[\"id\", \"creation_time\", \"details\", \"origin_id\", \"network_id\", \"participant_id\"]] # TODO: Probably want more columns here \n",
    "\n",
    "info_data = info_data.sort_values([\"network_id\", \"origin_id\"])"
   ]
  },
  {
   "cell_type": "code",
   "execution_count": 8,
   "metadata": {},
   "outputs": [],
   "source": [
    "\n",
    "def generate_graph(degree):\n",
    "    ''' Given a degree (int or float), return a Graph containing nodes (with metadata from infos) and edges in that degree. \n",
    "    '''\n",
    "    # validation: ensure degree is a float \n",
    "    if not isinstance(degree, float):\n",
    "        try:\n",
    "            degree = float(degree)\n",
    "        except Exception as ex:\n",
    "            raise(\"When converting degree to float, the following exception occured: \" + str(ex))\n",
    "\n",
    "    # create graph \n",
    "    G = nx.Graph()\n",
    "\n",
    "    # add nodes from node_data to the Graph\n",
    "    # nodes are identified by their node_id\n",
    "    # nodes have named attributes vertex_id and degree\n",
    "    deg_nodes = node_data[node_data[\"degree\"] == degree]\n",
    "    for node_id in deg_nodes[\"id\"].values.tolist():\n",
    "        # extract vertex id \n",
    "        vert_id = deg_nodes[deg_nodes[\"id\"] == node_id][\"vertex_id\"].values[0]\n",
    "\n",
    "        # add metadata from infos \n",
    "        info_row = info_data[info_data[\"origin_id\"] == node_id]\n",
    "        try:\n",
    "            creation_time = info_row[\"creation_time\"].values[0]\n",
    "        except:\n",
    "            creation_time = None\n",
    "\n",
    "        G.add_node(node_id, vertex_id=vert_id, degree=degree, creation_time=creation_time)\n",
    "\n",
    "    # add edges to the Graph: iterate over deg_nodes, add incoming edges\n",
    "    # using dependent_vertex_ids column \n",
    "    edges = {}\n",
    "    for i, ser in deg_nodes.iterrows():\n",
    "        node_id = ser[\"id\"]\n",
    "\n",
    "        # get dependent vertices (incoming edges) in a list \n",
    "        dependent_vertices = ser[\"dependent_vertex_ids\"].strip('][').split(',')\n",
    "\n",
    "        # find the corresponding row of deg_nodes for each vertex_id\n",
    "        dependent_nodes = [deg_nodes[deg_nodes[\"vertex_id\"] == float(v)] for v in dependent_vertices]\n",
    "\n",
    "        # extract the node_id from each dependent vertex row\n",
    "        dependent_nodes = [n[\"id\"].values[0] for n in dependent_nodes]\n",
    "\n",
    "        # add as edges (dependent node --> curent node)\n",
    "        edge_list = [(int(dependent_node), int(node_id)) for dependent_node in dependent_nodes]\n",
    "        G.add_edges_from(edge_list)\n",
    "\n",
    "    return G"
   ]
  },
  {
   "cell_type": "code",
   "execution_count": 9,
   "metadata": {},
   "outputs": [
    {
     "output_type": "stream",
     "name": "stdout",
     "text": [
      "generated graph of degree 1.0\n",
      "generated graph of degree 2.0\n",
      "generated graph of degree 3.0\n",
      "generated graph of degree 4.0\n",
      "generated graph of degree 5.0\n",
      "generated graph of degree 6.0\n",
      "generated graph of degree 7.0\n",
      "generated graph of degree 8.0\n",
      "generated graph of degree 9.0\n",
      "generated graph of degree 10.0\n",
      "generated graph of degree 11.0\n",
      "generated graph of degree 12.0\n",
      "generated graph of degree 13.0\n",
      "generated graph of degree 14.0\n",
      "generated graph of degree 15.0\n",
      "generated graph of degree 16.0\n",
      "generated graph of degree 17.0\n",
      "generated graph of degree 18.0\n",
      "generated graph of degree 19.0\n",
      "generated graph of degree 20.0\n",
      "generated graph of degree 21.0\n"
     ]
    }
   ],
   "source": [
    "for d in range(int(node_data[\"degree\"].max())):\n",
    "    # convert to PyVis and show\n",
    "    pyvis_net = Network('500px', '500px')\n",
    "    pyvis_net.from_nx(generate_graph(float(d+1)))\n",
    "    print('generated graph of degree ' + str(float(d+1)))\n",
    "\n",
    "    # add labels\n",
    "    for n in pyvis_net.nodes:\n",
    "        n['label'] = str(int(n['vertex_id'])) # gets changed to a float if you try to convert it in networkx for some reason\n",
    "        n['title'] = str(n['creation_time'])\n",
    "\n",
    "    pyvis_net.show('slice_%d.html' % d)"
   ]
  },
  {
   "cell_type": "code",
   "execution_count": 15,
   "metadata": {
    "tags": []
   },
   "outputs": [
    {
     "output_type": "error",
     "ename": "IndexError",
     "evalue": "index 0 is out of bounds for axis 0 with size 0",
     "traceback": [
      "\u001b[0;31m---------------------------------------------------------------------------\u001b[0m",
      "\u001b[0;31mIndexError\u001b[0m                                Traceback (most recent call last)",
      "\u001b[0;32m<ipython-input-15-3df34b997eb8>\u001b[0m in \u001b[0;36m<module>\u001b[0;34m\u001b[0m\n\u001b[1;32m     31\u001b[0m         \u001b[0mn_id\u001b[0m \u001b[0;34m=\u001b[0m \u001b[0mn\u001b[0m\u001b[0;34m[\u001b[0m\u001b[0;36m0\u001b[0m\u001b[0;34m]\u001b[0m\u001b[0;34m\u001b[0m\u001b[0;34m\u001b[0m\u001b[0m\n\u001b[1;32m     32\u001b[0m         \u001b[0mrow\u001b[0m \u001b[0;34m=\u001b[0m \u001b[0minfo_data\u001b[0m\u001b[0;34m[\u001b[0m\u001b[0minfo_data\u001b[0m\u001b[0;34m[\u001b[0m\u001b[0;34m\"origin_id\"\u001b[0m\u001b[0;34m]\u001b[0m \u001b[0;34m==\u001b[0m \u001b[0mn_id\u001b[0m\u001b[0;34m]\u001b[0m\u001b[0;34m\u001b[0m\u001b[0;34m\u001b[0m\u001b[0m\n\u001b[0;32m---> 33\u001b[0;31m         \u001b[0mG\u001b[0m\u001b[0;34m.\u001b[0m\u001b[0mnodes\u001b[0m\u001b[0;34m[\u001b[0m\u001b[0mn_id\u001b[0m\u001b[0;34m]\u001b[0m\u001b[0;34m[\u001b[0m\u001b[0;34m'creation_time'\u001b[0m\u001b[0;34m]\u001b[0m \u001b[0;34m=\u001b[0m \u001b[0mrow\u001b[0m\u001b[0;34m[\u001b[0m\u001b[0;34m\"creation_time\"\u001b[0m\u001b[0;34m]\u001b[0m\u001b[0;34m.\u001b[0m\u001b[0mvalues\u001b[0m\u001b[0;34m[\u001b[0m\u001b[0;36m0\u001b[0m\u001b[0;34m]\u001b[0m\u001b[0;34m\u001b[0m\u001b[0;34m\u001b[0m\u001b[0m\n\u001b[0m\u001b[1;32m     34\u001b[0m         \u001b[0;31m# TODO: Add other infos here\u001b[0m\u001b[0;34m\u001b[0m\u001b[0;34m\u001b[0m\u001b[0;34m\u001b[0m\u001b[0m\n\u001b[1;32m     35\u001b[0m \u001b[0;34m\u001b[0m\u001b[0m\n",
      "\u001b[0;31mIndexError\u001b[0m: index 0 is out of bounds for axis 0 with size 0"
     ]
    }
   ],
   "source": [
    "slice_graphs = []\n",
    "min_deg = int(node_data[\"degree\"].min())\n",
    "max_deg = int(node_data[\"degree\"].max())    # assumes degrees are continuous\n",
    "\n",
    "for d in range(min_deg, max_deg + 1):\n",
    "    d = float(d)\n",
    "    G = nx.DiGraph()\n",
    "\n",
    "    # add nodes to new Graph\n",
    "    deg = node_data[node_data[\"degree\"] == d]\n",
    "    for node_id in deg[\"id\"].values.tolist():\n",
    "        v_id = deg[deg[\"id\"] == node_id][\"vertex_id\"].values[0]\n",
    "        G.add_node(node_id, vertex_id=v_id, degree=d)\n",
    "\n",
    "    # add edges to the Graph \n",
    "    edges = {}\n",
    "    for i, ser in deg.iterrows():\n",
    "        node_id = ser[\"id\"]\n",
    "\n",
    "        # get dependent nodes \n",
    "        dependent_vertices = ser[\"dependent_vertex_ids\"].strip('][').split(',')\n",
    "        dependent_nodes = [deg[deg[\"vertex_id\"] == float(v)] for v in dependent_vertices]\n",
    "        dependent_nodes = [n[\"id\"].values[0] for n in dependent_nodes]\n",
    "\n",
    "        # add as edges\n",
    "        edge_list = [(int(dependent_node), int(node_id)) for dependent_node in dependent_nodes]\n",
    "        G.add_edges_from(edge_list)\n",
    "\n",
    "    # Add metadata from infos to each node\n",
    "    for n in G.nodes.items():\n",
    "        n_id = n[0]\n",
    "        row = info_data[info_data[\"origin_id\"] == n_id]\n",
    "        G.nodes[n_id]['creation_time'] = row[\"creation_time\"].values[0]\n",
    "        # TODO: Add other infos here \n",
    "\n",
    "    slice_graphs.append(G)"
   ]
  },
  {
   "cell_type": "code",
   "execution_count": null,
   "metadata": {},
   "outputs": [],
   "source": [
    "for d in range(max_deg-min_deg):\n",
    "    # convert to PyVis and show\n",
    "    pyvis_net = Network('500px', '500px')\n",
    "    pyvis_net.from_nx(slice_graphs[d])\n",
    "\n",
    "    # add labels\n",
    "    for n in pyvis_net.nodes:\n",
    "        n['label'] = str(int(n['vertex_id'])) # gets changed to a float if you try to convert it in networkx for some reason\n",
    "        n['title'] = str(n['degree'])\n",
    "\n",
    "    pyvis_net.show('slice_%d.html' % d)"
   ]
  },
  {
   "cell_type": "code",
   "execution_count": null,
   "metadata": {},
   "outputs": [],
   "source": []
  }
 ]
}